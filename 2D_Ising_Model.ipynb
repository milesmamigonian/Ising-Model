{
 "cells": [
  {
   "cell_type": "code",
   "execution_count": 7,
   "metadata": {},
   "outputs": [],
   "source": [
    "import numpy as np\n",
    "import matplotlib.pyplot as plt\n",
    "# plt.style.use(['science','notebook', 'grid'])\n",
    "import numba\n",
    "from numba import njit \n",
    "from scipy.ndimage import convolve, generate_binary_structure\n",
    "from mpl_toolkits import mplot3d \n",
    "%matplotlib inline"
   ]
  },
  {
   "cell_type": "code",
   "execution_count": 8,
   "metadata": {},
   "outputs": [],
   "source": [
    "# we will make a 50x50 grid\n",
    "N = 4"
   ]
  },
  {
   "cell_type": "code",
   "execution_count": 9,
   "metadata": {},
   "outputs": [
    {
     "name": "stdout",
     "output_type": "stream",
     "text": [
      "[[ 1.  1.  1.  1.]\n",
      " [-1.  1.  1.  1.]\n",
      " [ 1. -1. -1. -1.]\n",
      " [ 1.  1.  1.  1.]]\n"
     ]
    }
   ],
   "source": [
    "# Random numbers of a N by N by N cube\n",
    "# np.random.random creates an array of shape (x, y, z,...) and randomly assigns numbers with a uniform distribution over [0, 1).\n",
    "initial_random = np.random.rand(N,N)\n",
    "# print(initial_random)\n",
    "\n",
    "# Now using this, we can set if something is > 0.25 it will be positive 1\n",
    "# If something is < 0.25 then it will be -1\n",
    "# This will allow for about 25% to be -1 then 75% to be +1\n",
    "\n",
    "#first create an array to store these numbers\n",
    "lattice_neg = np.zeros((N,N))\n",
    "# print(lattice_neg)\n",
    "# now put that array in itself\n",
    "lattice_neg[initial_random <0.75] = -1\n",
    "lattice_neg[initial_random >=0.75] = 1\n",
    "# print(lattice_neg)\n",
    "\n",
    "initial_random = np.random.rand(N,N)\n",
    "# print(initial_random)\n",
    "lattice_pos = np.zeros((N,N))\n",
    "lattice_pos[initial_random < 0.25] = -1\n",
    "lattice_pos[initial_random >= 0.25] = 1\n",
    "print(lattice_pos)"
   ]
  },
  {
   "cell_type": "code",
   "execution_count": 10,
   "metadata": {},
   "outputs": [
    {
     "data": {
      "image/png": "[encoded data removed]",
      "text/plain": [
       "<Figure size 640x480 with 1 Axes>"
      ]
     },
     "metadata": {},
     "output_type": "display_data"
    }
   ],
   "source": [
    "plt.figure()\n",
    "plt.imshow(lattice_neg)\n",
    "plt.title(\"Negative values in Purple\")\n",
    "# plt.imshow(lattice_pos)\n",
    "plt.show()\n",
    "\n",
    "# not at equilibirum, in initial state and will be put into temperature bath\n",
    "# Roughly 75% up spin (purple) and 25% negative spins (yellow)"
   ]
  },
  {
   "cell_type": "code",
   "execution_count": 38,
   "metadata": {},
   "outputs": [],
   "source": [
    "# Now that we have our initial sets of + 1 and -1 spins\n",
    "# We need the Metropolis method to flip these spins. \n",
    "\n",
    "# Dimensionless qt \n",
    "\n",
    "def get_energy(lattice):\n",
    "    # create only the nearest neighbors\n",
    "    kern = generate_binary_structure(2,1)\n",
    "    # Do not use the center piece, change it to false\n",
    "    kern[1][1] = False\n",
    "    # convolution and multiple to the lattice\n",
    "    arr = -lattice * convolve(lattice, kern, mode=\"constant\")\n",
    "    # sum up the array vallues\n",
    "    return np.sum(arr)"
   ]
  },
  {
   "cell_type": "code",
   "execution_count": 44,
   "metadata": {},
   "outputs": [],
   "source": [
    "# kern = generate_binary_structure(2,1)\n",
    "# print(kern)\n",
    "# kern[1][1] = False\n",
    "# print(kern)   \n",
    "# # represents the nearest neighbor where a false is surrounded by \"True\" or neighbors\n",
    "# print(lattice_neg)\n",
    "# arr = - lattice_neg * convolve(lattice_neg, kern)\n",
    "# print(arr)\n",
    "# arr = - lattice_neg * convolve(lattice_neg, kern, mode =\"constant\")\n",
    "# print(arr)\n",
    "# print(np.sum(arr))\n",
    "\n",
    "# print(get_energy(lattice_neg))"
   ]
  },
  {
   "cell_type": "code",
   "execution_count": null,
   "metadata": {},
   "outputs": [],
   "source": [
    "# Metropolis Algorithm\n",
    "# BJ is the temperature\n",
    "# initial lattice of ups and downs--> spin_arr\n",
    "# number of iterations of going through algorithm--> time\n",
    "# BJ = temperature (B = 1/(KT)) ???\n",
    "# initial energy of the lattice = energy (initial_energy)\n",
    "def metropolis (spin_arr, times, BJ, energy):\n",
    "    spin_arr = spin_arr.copy()\n",
    "    # calculate the net spin and net energy as it changes as the spin flips\n",
    "    net_spins = np.zeros(times-1)\n",
    "    net_energy = np.zeros(times-1)\n",
    "\n",
    "    # pick a random point in the lattice and flip the spin\n",
    "    for t in range (0, times -1):\n",
    "        # pick random coordinates x and y\n",
    "        x = np.random.randint(0,N)\n",
    "        y = np.random.randint(0,N)\n",
    "        # with random x and y coordinate, find the spin (-1 or 1)\n",
    "        # initial spin\n",
    "        spin_i = spin_arr[x][y]\n",
    "        # flip the spin (aka spin_f) by mult. by -1\n",
    "        spin_f = -1 * spin_i\n",
    "\n",
    "        # compute the change in energy with the change of spin\n",
    "        # energy starts at zero\n",
    "        E_i = 0\n",
    "        E_f = 0\n",
    "        \n",
    "        # energy from the neighbors totaled up \n",
    "        # (other option is create E_i = the summ of all of them but that's super long code\n",
    "\n",
    "        # position to the left \n",
    "        E_i = E_i + -1*spin_i*spin_arr[x-1][y]\n",
    "        E_f = E_f + -1*spin_f*spin_arr[x-1][y]\n",
    "\n",
    "        # position to the right (added to the energy from the left neighbors)\n",
    "        E_i += -1*spin_i*spin_arr[x+1][y]\n",
    "        E_f += -1*spin_f*spin_arr[x+1][y]\n",
    "\n",
    "        # position above (added to the energy of the left and right neighbors)\n",
    "        E_i += -1*spin_i*spin_arr[x][y+1]\n",
    "        E_f += -1*spin_f*spin_arr[x][y+1]\n",
    "    \n",
    "        # positive below\n",
    "        E_i += -1*spin_i*spin_arr[x][y-1]\n",
    "        E_f =+ -1*spin_f*spin_arr[x][y-1]\n",
    "\n",
    "        dE = E_f - E_i\n",
    "        \n"
   ]
  },
  {
   "cell_type": "code",
   "execution_count": 52,
   "metadata": {},
   "outputs": [
    {
     "name": "stdout",
     "output_type": "stream",
     "text": [
      "[[ 1. -1.  1.  1.]\n",
      " [-1.  1. -1. -1.]\n",
      " [-1. -1. -1. -1.]\n",
      " [-1. -1. -1. -1.]]\n",
      "-1.0\n",
      "1.0\n",
      "-1.0\n"
     ]
    }
   ],
   "source": [
    "print(lattice_neg)\n",
    "print(lattice_neg[0][1]) # initial spin\n",
    "print(-1*lattice_neg[0,1]) # spin flip\n",
    "\n",
    "print(lattice_neg[0,1])\n",
    "\n",
    "# is [x][y] different from [x,y]"
   ]
  },
  {
   "cell_type": "code",
   "execution_count": 45,
   "metadata": {},
   "outputs": [
    {
     "name": "stdout",
     "output_type": "stream",
     "text": [
      "0\n",
      "[-1  1 -1  1 -1 -1  1  1 -1  1]\n"
     ]
    }
   ],
   "source": [
    "# x = np.random.randint(0,N)\n",
    "# print(x)\n",
    "# size = 10\n",
    "# arr=np.random.randint(0,2, size)\n",
    "# arr[arr ==0] = -1\n",
    "# print(arr)"
   ]
  },
  {
   "cell_type": "code",
   "execution_count": null,
   "metadata": {},
   "outputs": [],
   "source": []
  }
 ],
 "metadata": {
  "kernelspec": {
   "display_name": "base",
   "language": "python",
   "name": "python3"
  },
  "language_info": {
   "codemirror_mode": {
    "name": "ipython",
    "version": 3
   },
   "file_extension": ".py",
   "mimetype": "text/x-python",
   "name": "python",
   "nbconvert_exporter": "python",
   "pygments_lexer": "ipython3",
   "version": "3.9.13"
  },
  "orig_nbformat": 4
 },
 "nbformat": 4,
 "nbformat_minor": 2
}
