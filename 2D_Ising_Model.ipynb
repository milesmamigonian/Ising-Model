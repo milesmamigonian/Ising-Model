{
 "cells": [
  {
   "cell_type": "code",
   "execution_count": 2,
   "metadata": {},
   "outputs": [],
   "source": [
    "import numpy as np\n",
    "import matplotlib.pyplot as plt\n",
    "# plt.style.use(['science','notebook', 'grid'])\n",
    "import numba\n",
    "from numba import njit \n",
    "from scipy.ndimage import convolve, generate_binary_structure\n",
    "from mpl_toolkits import mplot3d \n",
    "%matplotlib inline"
   ]
  },
  {
   "cell_type": "code",
   "execution_count": 3,
   "metadata": {},
   "outputs": [],
   "source": [
    "# we will make a 50x50 grid\n",
    "N = 4"
   ]
  },
  {
   "cell_type": "code",
   "execution_count": 4,
   "metadata": {},
   "outputs": [
    {
     "name": "stdout",
     "output_type": "stream",
     "text": [
      "[[ 1. -1.  1.  1.]\n",
      " [ 1. -1. -1.  1.]\n",
      " [ 1. -1.  1.  1.]\n",
      " [ 1.  1.  1.  1.]]\n"
     ]
    }
   ],
   "source": [
    "# Random numbers of a N by N by N cube\n",
    "# np.random.random creates an array of shape (x, y, z,...) and randomly assigns numbers with a uniform distribution over [0, 1).\n",
    "initial_random = np.random.rand(N,N)\n",
    "# print(initial_random)\n",
    "\n",
    "# Now using this, we can set if something is > 0.25 it will be positive 1\n",
    "# If something is < 0.25 then it will be -1\n",
    "# This will allow for about 25% to be -1 then 75% to be +1\n",
    "\n",
    "#first create an array to store these numbers\n",
    "lattice_neg = np.zeros((N,N))\n",
    "# print(lattice_neg)\n",
    "# now put that array in itself\n",
    "lattice_neg[initial_random <0.75] = -1\n",
    "lattice_neg[initial_random >=0.75] = 1\n",
    "# print(lattice_neg)\n",
    "\n",
    "initial_random = np.random.rand(N,N)\n",
    "# print(initial_random)\n",
    "lattice_pos = np.zeros((N,N))\n",
    "lattice_pos[initial_random < 0.25] = -1\n",
    "lattice_pos[initial_random >= 0.25] = 1\n",
    "print(lattice_pos)"
   ]
  },
  {
   "cell_type": "code",
   "execution_count": 5,
   "metadata": {},
   "outputs": [
    {
     "data": {
      "image/png": "[encoded data removed]",
      "text/plain": [
       "<Figure size 640x480 with 1 Axes>"
      ]
     },
     "metadata": {},
     "output_type": "display_data"
    }
   ],
   "source": [
    "plt.figure()\n",
    "plt.imshow(lattice_neg)\n",
    "plt.title(\"Negative values in Purple\")\n",
    "# plt.imshow(lattice_pos)\n",
    "plt.show()\n",
    "\n",
    "# not at equilibirum, in initial state and will be put into temperature bath"
   ]
  },
  {
   "cell_type": "code",
   "execution_count": 6,
   "metadata": {},
   "outputs": [],
   "source": [
    "# Now that we have our initial sets of + 1 and -1 spins\n",
    "# We need the Metropolis method to flip these spins. \n",
    "\n"
   ]
  },
  {
   "cell_type": "code",
   "execution_count": null,
   "metadata": {},
   "outputs": [],
   "source": []
  }
 ],
 "metadata": {
  "kernelspec": {
   "display_name": "base",
   "language": "python",
   "name": "python3"
  },
  "language_info": {
   "codemirror_mode": {
    "name": "ipython",
    "version": 3
   },
   "file_extension": ".py",
   "mimetype": "text/x-python",
   "name": "python",
   "nbconvert_exporter": "python",
   "pygments_lexer": "ipython3",
   "version": "3.9.13"
  },
  "orig_nbformat": 4
 },
 "nbformat": 4,
 "nbformat_minor": 2
}
