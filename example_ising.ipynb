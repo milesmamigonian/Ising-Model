{
 "cells": [
  {
   "attachments": {},
   "cell_type": "markdown",
   "metadata": {},
   "source": [
    "# Example Ising Model\n",
    "\n",
    "This is from the following video: https://youtube.com/watch?v=K--1hlv9yv0&feature=share\n",
    "\n",
    "Hopefully, this will provide a useful guide for us moving forward."
   ]
  },
  {
   "cell_type": "code",
   "execution_count": null,
   "metadata": {},
   "outputs": [],
   "source": [
    "import numpy as np\n",
    "import matplotlib.pyplot as plt\n",
    "plt.style.use(['science','notebook', 'grid'])\n",
    "import numba\n",
    "from numba import njit\n",
    "from scipy.ndimage import convolve, generate_binary_structure"
   ]
  },
  {
   "cell_type": "code",
   "execution_count": null,
   "metadata": {},
   "outputs": [],
   "source": [
    "# we will make a 50x50 grid\n",
    "N = 50"
   ]
  },
  {
   "cell_type": "code",
   "execution_count": null,
   "metadata": {},
   "outputs": [],
   "source": [
    "init_random = np.random.random((N,N))\n",
    "lattice_n = np.zeros((N, N))\n",
    "lattice_n[init_random>=0.75] = 1\n",
    "lattice_n[init_random<0.75] = -1\n",
    "\n",
    "init_random = np.random.random((N,N))\n",
    "lattice_p = np.zeros((N, N))\n",
    "lattice_p[init_random>=0.25] = 1\n",
    "lattice_p[init_random<0.25] = -1"
   ]
  },
  {
   "cell_type": "code",
   "execution_count": null,
   "metadata": {},
   "outputs": [],
   "source": [
    "plt.imshow(lattice_p)"
   ]
  }
 ],
 "metadata": {
  "kernelspec": {
   "display_name": "base",
   "language": "python",
   "name": "python3"
  },
  "language_info": {
   "codemirror_mode": {
    "name": "ipython",
    "version": 3
   },
   "file_extension": ".py",
   "mimetype": "text/x-python",
   "name": "python",
   "nbconvert_exporter": "python",
   "pygments_lexer": "ipython3",
   "version": "3.9.13"
  },
  "orig_nbformat": 4
 },
 "nbformat": 4,
 "nbformat_minor": 2
}
